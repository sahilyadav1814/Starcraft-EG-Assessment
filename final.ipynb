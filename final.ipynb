{
 "cells": [
  {
   "cell_type": "code",
   "execution_count": 1,
   "outputs": [],
   "source": [
    "import numpy as np\n",
    "import pandas as pd\n",
    "from sklearn.model_selection import train_test_split\n",
    "import matplotlib.pyplot as plt"
   ],
   "metadata": {
    "collapsed": false,
    "ExecuteTime": {
     "end_time": "2023-05-29T22:34:02.460962400Z",
     "start_time": "2023-05-29T22:34:01.571222Z"
    }
   }
  },
  {
   "cell_type": "code",
   "execution_count": 2,
   "metadata": {
    "collapsed": true,
    "ExecuteTime": {
     "end_time": "2023-05-29T22:34:02.574406100Z",
     "start_time": "2023-05-29T22:34:02.447516700Z"
    }
   },
   "outputs": [
    {
     "data": {
      "text/plain": "      GameID  LeagueIndex Age HoursPerWeek TotalHours       APM  \\\n0         52            5  27           10       3000  143.7180   \n1         55            5  23           10       5000  129.2322   \n2         56            4  30           10        200   69.9612   \n3         57            3  19           20        400  107.6016   \n4         58            3  32           10        500  122.8908   \n...      ...          ...  ..          ...        ...       ...   \n3390   10089            8   ?            ?          ?  259.6296   \n3391   10090            8   ?            ?          ?  314.6700   \n3392   10092            8   ?            ?          ?  299.4282   \n3393   10094            8   ?            ?          ?  375.8664   \n3394   10095            8   ?            ?          ?  348.3576   \n\n      SelectByHotkeys  AssignToHotkeys  UniqueHotkeys  MinimapAttacks  \\\n0            0.003515         0.000220              7        0.000110   \n1            0.003304         0.000259              4        0.000294   \n2            0.001101         0.000336              4        0.000294   \n3            0.001034         0.000213              1        0.000053   \n4            0.001136         0.000327              2        0.000000   \n...               ...              ...            ...             ...   \n3390         0.020425         0.000743              9        0.000621   \n3391         0.028043         0.001157             10        0.000246   \n3392         0.028341         0.000860              7        0.000338   \n3393         0.036436         0.000594              5        0.000204   \n3394         0.029855         0.000811              4        0.000224   \n\n      MinimapRightClicks  NumberOfPACs  GapBetweenPACs  ActionLatency  \\\n0               0.000392      0.004849         32.6677        40.8673   \n1               0.000432      0.004307         32.9194        42.3454   \n2               0.000461      0.002926         44.6475        75.3548   \n3               0.000543      0.003783         29.2203        53.7352   \n4               0.001329      0.002368         22.6885        62.0813   \n...                  ...           ...             ...            ...   \n3390            0.000146      0.004555         18.6059        42.8342   \n3391            0.001083      0.004259         14.3023        36.1156   \n3392            0.000169      0.004439         12.4028        39.5156   \n3393            0.000780      0.004346         11.6910        34.8547   \n3394            0.001315      0.005566         20.0537        33.5142   \n\n      ActionsInPAC  TotalMapExplored  WorkersMade  UniqueUnitsMade  \\\n0           4.7508                28     0.001397                6   \n1           4.8434                22     0.001193                5   \n2           4.0430                22     0.000745                6   \n3           4.9155                19     0.000426                7   \n4           9.3740                15     0.001174                4   \n...            ...               ...          ...              ...   \n3390        6.2754                46     0.000877                5   \n3391        7.1965                16     0.000788                4   \n3392        6.3979                19     0.001260                4   \n3393        7.9615                15     0.000613                6   \n3394        6.3719                27     0.001566                7   \n\n      ComplexUnitsMade  ComplexAbilitiesUsed  \n0             0.000000              0.000000  \n1             0.000000              0.000208  \n2             0.000000              0.000189  \n3             0.000000              0.000384  \n4             0.000000              0.000019  \n...                ...                   ...  \n3390          0.000000              0.000000  \n3391          0.000000              0.000000  \n3392          0.000000              0.000000  \n3393          0.000000              0.000631  \n3394          0.000457              0.000895  \n\n[3395 rows x 20 columns]",
      "text/html": "<div>\n<style scoped>\n    .dataframe tbody tr th:only-of-type {\n        vertical-align: middle;\n    }\n\n    .dataframe tbody tr th {\n        vertical-align: top;\n    }\n\n    .dataframe thead th {\n        text-align: right;\n    }\n</style>\n<table border=\"1\" class=\"dataframe\">\n  <thead>\n    <tr style=\"text-align: right;\">\n      <th></th>\n      <th>GameID</th>\n      <th>LeagueIndex</th>\n      <th>Age</th>\n      <th>HoursPerWeek</th>\n      <th>TotalHours</th>\n      <th>APM</th>\n      <th>SelectByHotkeys</th>\n      <th>AssignToHotkeys</th>\n      <th>UniqueHotkeys</th>\n      <th>MinimapAttacks</th>\n      <th>MinimapRightClicks</th>\n      <th>NumberOfPACs</th>\n      <th>GapBetweenPACs</th>\n      <th>ActionLatency</th>\n      <th>ActionsInPAC</th>\n      <th>TotalMapExplored</th>\n      <th>WorkersMade</th>\n      <th>UniqueUnitsMade</th>\n      <th>ComplexUnitsMade</th>\n      <th>ComplexAbilitiesUsed</th>\n    </tr>\n  </thead>\n  <tbody>\n    <tr>\n      <th>0</th>\n      <td>52</td>\n      <td>5</td>\n      <td>27</td>\n      <td>10</td>\n      <td>3000</td>\n      <td>143.7180</td>\n      <td>0.003515</td>\n      <td>0.000220</td>\n      <td>7</td>\n      <td>0.000110</td>\n      <td>0.000392</td>\n      <td>0.004849</td>\n      <td>32.6677</td>\n      <td>40.8673</td>\n      <td>4.7508</td>\n      <td>28</td>\n      <td>0.001397</td>\n      <td>6</td>\n      <td>0.000000</td>\n      <td>0.000000</td>\n    </tr>\n    <tr>\n      <th>1</th>\n      <td>55</td>\n      <td>5</td>\n      <td>23</td>\n      <td>10</td>\n      <td>5000</td>\n      <td>129.2322</td>\n      <td>0.003304</td>\n      <td>0.000259</td>\n      <td>4</td>\n      <td>0.000294</td>\n      <td>0.000432</td>\n      <td>0.004307</td>\n      <td>32.9194</td>\n      <td>42.3454</td>\n      <td>4.8434</td>\n      <td>22</td>\n      <td>0.001193</td>\n      <td>5</td>\n      <td>0.000000</td>\n      <td>0.000208</td>\n    </tr>\n    <tr>\n      <th>2</th>\n      <td>56</td>\n      <td>4</td>\n      <td>30</td>\n      <td>10</td>\n      <td>200</td>\n      <td>69.9612</td>\n      <td>0.001101</td>\n      <td>0.000336</td>\n      <td>4</td>\n      <td>0.000294</td>\n      <td>0.000461</td>\n      <td>0.002926</td>\n      <td>44.6475</td>\n      <td>75.3548</td>\n      <td>4.0430</td>\n      <td>22</td>\n      <td>0.000745</td>\n      <td>6</td>\n      <td>0.000000</td>\n      <td>0.000189</td>\n    </tr>\n    <tr>\n      <th>3</th>\n      <td>57</td>\n      <td>3</td>\n      <td>19</td>\n      <td>20</td>\n      <td>400</td>\n      <td>107.6016</td>\n      <td>0.001034</td>\n      <td>0.000213</td>\n      <td>1</td>\n      <td>0.000053</td>\n      <td>0.000543</td>\n      <td>0.003783</td>\n      <td>29.2203</td>\n      <td>53.7352</td>\n      <td>4.9155</td>\n      <td>19</td>\n      <td>0.000426</td>\n      <td>7</td>\n      <td>0.000000</td>\n      <td>0.000384</td>\n    </tr>\n    <tr>\n      <th>4</th>\n      <td>58</td>\n      <td>3</td>\n      <td>32</td>\n      <td>10</td>\n      <td>500</td>\n      <td>122.8908</td>\n      <td>0.001136</td>\n      <td>0.000327</td>\n      <td>2</td>\n      <td>0.000000</td>\n      <td>0.001329</td>\n      <td>0.002368</td>\n      <td>22.6885</td>\n      <td>62.0813</td>\n      <td>9.3740</td>\n      <td>15</td>\n      <td>0.001174</td>\n      <td>4</td>\n      <td>0.000000</td>\n      <td>0.000019</td>\n    </tr>\n    <tr>\n      <th>...</th>\n      <td>...</td>\n      <td>...</td>\n      <td>...</td>\n      <td>...</td>\n      <td>...</td>\n      <td>...</td>\n      <td>...</td>\n      <td>...</td>\n      <td>...</td>\n      <td>...</td>\n      <td>...</td>\n      <td>...</td>\n      <td>...</td>\n      <td>...</td>\n      <td>...</td>\n      <td>...</td>\n      <td>...</td>\n      <td>...</td>\n      <td>...</td>\n      <td>...</td>\n    </tr>\n    <tr>\n      <th>3390</th>\n      <td>10089</td>\n      <td>8</td>\n      <td>?</td>\n      <td>?</td>\n      <td>?</td>\n      <td>259.6296</td>\n      <td>0.020425</td>\n      <td>0.000743</td>\n      <td>9</td>\n      <td>0.000621</td>\n      <td>0.000146</td>\n      <td>0.004555</td>\n      <td>18.6059</td>\n      <td>42.8342</td>\n      <td>6.2754</td>\n      <td>46</td>\n      <td>0.000877</td>\n      <td>5</td>\n      <td>0.000000</td>\n      <td>0.000000</td>\n    </tr>\n    <tr>\n      <th>3391</th>\n      <td>10090</td>\n      <td>8</td>\n      <td>?</td>\n      <td>?</td>\n      <td>?</td>\n      <td>314.6700</td>\n      <td>0.028043</td>\n      <td>0.001157</td>\n      <td>10</td>\n      <td>0.000246</td>\n      <td>0.001083</td>\n      <td>0.004259</td>\n      <td>14.3023</td>\n      <td>36.1156</td>\n      <td>7.1965</td>\n      <td>16</td>\n      <td>0.000788</td>\n      <td>4</td>\n      <td>0.000000</td>\n      <td>0.000000</td>\n    </tr>\n    <tr>\n      <th>3392</th>\n      <td>10092</td>\n      <td>8</td>\n      <td>?</td>\n      <td>?</td>\n      <td>?</td>\n      <td>299.4282</td>\n      <td>0.028341</td>\n      <td>0.000860</td>\n      <td>7</td>\n      <td>0.000338</td>\n      <td>0.000169</td>\n      <td>0.004439</td>\n      <td>12.4028</td>\n      <td>39.5156</td>\n      <td>6.3979</td>\n      <td>19</td>\n      <td>0.001260</td>\n      <td>4</td>\n      <td>0.000000</td>\n      <td>0.000000</td>\n    </tr>\n    <tr>\n      <th>3393</th>\n      <td>10094</td>\n      <td>8</td>\n      <td>?</td>\n      <td>?</td>\n      <td>?</td>\n      <td>375.8664</td>\n      <td>0.036436</td>\n      <td>0.000594</td>\n      <td>5</td>\n      <td>0.000204</td>\n      <td>0.000780</td>\n      <td>0.004346</td>\n      <td>11.6910</td>\n      <td>34.8547</td>\n      <td>7.9615</td>\n      <td>15</td>\n      <td>0.000613</td>\n      <td>6</td>\n      <td>0.000000</td>\n      <td>0.000631</td>\n    </tr>\n    <tr>\n      <th>3394</th>\n      <td>10095</td>\n      <td>8</td>\n      <td>?</td>\n      <td>?</td>\n      <td>?</td>\n      <td>348.3576</td>\n      <td>0.029855</td>\n      <td>0.000811</td>\n      <td>4</td>\n      <td>0.000224</td>\n      <td>0.001315</td>\n      <td>0.005566</td>\n      <td>20.0537</td>\n      <td>33.5142</td>\n      <td>6.3719</td>\n      <td>27</td>\n      <td>0.001566</td>\n      <td>7</td>\n      <td>0.000457</td>\n      <td>0.000895</td>\n    </tr>\n  </tbody>\n</table>\n<p>3395 rows × 20 columns</p>\n</div>"
     },
     "execution_count": 2,
     "metadata": {},
     "output_type": "execute_result"
    }
   ],
   "source": [
    "df = pd.read_csv('dataset/starcraft_player_data.csv')\n",
    "df"
   ]
  },
  {
   "cell_type": "code",
   "execution_count": 3,
   "outputs": [],
   "source": [
    "def sanitize(df: pd.DataFrame):\n",
    "    \"\"\"\n",
    "    Helper utility for replacing the '?' in the Age, TotalHours, HoursPerWeek to an Integer.\n",
    "    :param df:\n",
    "    :return:\n",
    "    \"\"\"\n",
    "    df['Age'] = df['Age'].str.replace('?', '0').astype(int)\n",
    "    df['TotalHours'] = df['TotalHours'].str.replace('?', '0').astype(int)\n",
    "    df['HoursPerWeek'] = df['HoursPerWeek'].str.replace('?', '0').astype(int)\n",
    "    df['LeagueIndex'] -= 1"
   ],
   "metadata": {
    "collapsed": false,
    "ExecuteTime": {
     "end_time": "2023-05-29T22:34:02.652524400Z",
     "start_time": "2023-05-29T22:34:02.567170700Z"
    }
   }
  },
  {
   "cell_type": "code",
   "execution_count": 4,
   "outputs": [
    {
     "name": "stderr",
     "output_type": "stream",
     "text": [
      "C:\\Users\\kxg220013\\AppData\\Local\\Temp\\ipykernel_243248\\2095549310.py:7: FutureWarning: The default value of regex will change from True to False in a future version. In addition, single character regular expressions will *not* be treated as literal strings when regex=True.\n",
      "  df['Age'] = df['Age'].str.replace('?', '0').astype(int)\n",
      "C:\\Users\\kxg220013\\AppData\\Local\\Temp\\ipykernel_243248\\2095549310.py:8: FutureWarning: The default value of regex will change from True to False in a future version. In addition, single character regular expressions will *not* be treated as literal strings when regex=True.\n",
      "  df['TotalHours'] = df['TotalHours'].str.replace('?', '0').astype(int)\n",
      "C:\\Users\\kxg220013\\AppData\\Local\\Temp\\ipykernel_243248\\2095549310.py:9: FutureWarning: The default value of regex will change from True to False in a future version. In addition, single character regular expressions will *not* be treated as literal strings when regex=True.\n",
      "  df['HoursPerWeek'] = df['HoursPerWeek'].str.replace('?', '0').astype(int)\n"
     ]
    }
   ],
   "source": [
    "sanitize(df)\n",
    "df = df.drop('GameID', axis=1)"
   ],
   "metadata": {
    "collapsed": false,
    "ExecuteTime": {
     "end_time": "2023-05-29T22:34:02.711742300Z",
     "start_time": "2023-05-29T22:34:02.588977900Z"
    }
   }
  },
  {
   "cell_type": "code",
   "execution_count": 5,
   "outputs": [],
   "source": [
    "train_cv, test = train_test_split(df, test_size=0.3)\n",
    "train, cv = train_test_split(train_cv, test_size=1/7)"
   ],
   "metadata": {
    "collapsed": false,
    "ExecuteTime": {
     "end_time": "2023-05-29T22:34:02.747237800Z",
     "start_time": "2023-05-29T22:34:02.629088700Z"
    }
   }
  },
  {
   "cell_type": "code",
   "execution_count": 6,
   "outputs": [],
   "source": [
    "train_x = train.drop('LeagueIndex', axis=1)\n",
    "train_y = train['LeagueIndex']\n",
    "\n",
    "cv_x = cv.drop('LeagueIndex', axis=1)\n",
    "cv_y = cv['LeagueIndex']\n",
    "\n",
    "test_x = test.drop('LeagueIndex', axis=1)\n",
    "test_y = test['LeagueIndex']"
   ],
   "metadata": {
    "collapsed": false,
    "ExecuteTime": {
     "end_time": "2023-05-29T22:34:02.806726100Z",
     "start_time": "2023-05-29T22:34:02.658384600Z"
    }
   }
  },
  {
   "cell_type": "markdown",
   "source": [
    "# XGBoost Trees"
   ],
   "metadata": {
    "collapsed": false
   }
  },
  {
   "cell_type": "code",
   "execution_count": 7,
   "outputs": [],
   "source": [
    "import xgboost as xgb\n",
    "from mlxtend.feature_selection import SequentialFeatureSelector"
   ],
   "metadata": {
    "collapsed": false,
    "ExecuteTime": {
     "end_time": "2023-05-29T22:34:03.008969200Z",
     "start_time": "2023-05-29T22:34:02.682043Z"
    }
   }
  },
  {
   "cell_type": "code",
   "execution_count": 8,
   "outputs": [],
   "source": [
    "num_features = 5\n",
    "\n",
    "sfs = SequentialFeatureSelector(xgb.XGBClassifier(), k_features=num_features, forward=True, scoring='accuracy', cv=None)\n",
    "selected_features = sfs.fit(train_x, train_y)"
   ],
   "metadata": {
    "collapsed": false,
    "ExecuteTime": {
     "end_time": "2023-05-29T22:36:31.243116Z",
     "start_time": "2023-05-29T22:34:02.827468100Z"
    }
   }
  },
  {
   "cell_type": "code",
   "execution_count": 9,
   "outputs": [
    {
     "data": {
      "text/plain": "['HoursPerWeek',\n 'SelectByHotkeys',\n 'MinimapRightClicks',\n 'ActionLatency',\n 'WorkersMade']"
     },
     "execution_count": 9,
     "metadata": {},
     "output_type": "execute_result"
    }
   ],
   "source": [
    "selected_columns = [train_x.columns[idx] for idx in selected_features.k_feature_idx_]\n",
    "selected_columns"
   ],
   "metadata": {
    "collapsed": false,
    "ExecuteTime": {
     "end_time": "2023-05-29T22:36:31.247571600Z",
     "start_time": "2023-05-29T22:36:31.243116Z"
    }
   }
  },
  {
   "cell_type": "code",
   "execution_count": 10,
   "outputs": [],
   "source": [
    "clf = xgb.XGBClassifier()\n",
    "clf.fit(X=train_x[selected_columns], y=train_y)\n",
    "cv_y_predict = clf.predict(X=cv_x[selected_columns])"
   ],
   "metadata": {
    "collapsed": false,
    "ExecuteTime": {
     "end_time": "2023-05-29T22:36:33.158679300Z",
     "start_time": "2023-05-29T22:36:31.247571600Z"
    }
   }
  },
  {
   "cell_type": "code",
   "execution_count": 11,
   "outputs": [
    {
     "data": {
      "text/plain": "1.1918843212720427"
     },
     "execution_count": 11,
     "metadata": {},
     "output_type": "execute_result"
    }
   ],
   "source": [
    "rmse_xgb = np.sqrt(((cv_y - cv_y_predict)**2).sum()/len(cv_y))\n",
    "rmse_xgb"
   ],
   "metadata": {
    "collapsed": false,
    "ExecuteTime": {
     "end_time": "2023-05-29T22:36:33.184036800Z",
     "start_time": "2023-05-29T22:36:33.165584400Z"
    }
   }
  },
  {
   "cell_type": "code",
   "execution_count": 12,
   "outputs": [
    {
     "data": {
      "text/plain": "0.37058823529411766"
     },
     "execution_count": 12,
     "metadata": {},
     "output_type": "execute_result"
    }
   ],
   "source": [
    "accuracy_xgb = (cv_y == cv_y_predict).astype(int).sum() / len(cv_y)\n",
    "accuracy_xgb"
   ],
   "metadata": {
    "collapsed": false,
    "ExecuteTime": {
     "end_time": "2023-05-29T22:36:33.272235500Z",
     "start_time": "2023-05-29T22:36:33.196203900Z"
    }
   }
  },
  {
   "cell_type": "markdown",
   "source": [
    "## k-Nearest Neighbors"
   ],
   "metadata": {
    "collapsed": false
   }
  },
  {
   "cell_type": "code",
   "execution_count": 13,
   "outputs": [
    {
     "data": {
      "text/plain": "KNeighborsClassifier()",
      "text/html": "<style>#sk-container-id-1 {color: black;background-color: white;}#sk-container-id-1 pre{padding: 0;}#sk-container-id-1 div.sk-toggleable {background-color: white;}#sk-container-id-1 label.sk-toggleable__label {cursor: pointer;display: block;width: 100%;margin-bottom: 0;padding: 0.3em;box-sizing: border-box;text-align: center;}#sk-container-id-1 label.sk-toggleable__label-arrow:before {content: \"▸\";float: left;margin-right: 0.25em;color: #696969;}#sk-container-id-1 label.sk-toggleable__label-arrow:hover:before {color: black;}#sk-container-id-1 div.sk-estimator:hover label.sk-toggleable__label-arrow:before {color: black;}#sk-container-id-1 div.sk-toggleable__content {max-height: 0;max-width: 0;overflow: hidden;text-align: left;background-color: #f0f8ff;}#sk-container-id-1 div.sk-toggleable__content pre {margin: 0.2em;color: black;border-radius: 0.25em;background-color: #f0f8ff;}#sk-container-id-1 input.sk-toggleable__control:checked~div.sk-toggleable__content {max-height: 200px;max-width: 100%;overflow: auto;}#sk-container-id-1 input.sk-toggleable__control:checked~label.sk-toggleable__label-arrow:before {content: \"▾\";}#sk-container-id-1 div.sk-estimator input.sk-toggleable__control:checked~label.sk-toggleable__label {background-color: #d4ebff;}#sk-container-id-1 div.sk-label input.sk-toggleable__control:checked~label.sk-toggleable__label {background-color: #d4ebff;}#sk-container-id-1 input.sk-hidden--visually {border: 0;clip: rect(1px 1px 1px 1px);clip: rect(1px, 1px, 1px, 1px);height: 1px;margin: -1px;overflow: hidden;padding: 0;position: absolute;width: 1px;}#sk-container-id-1 div.sk-estimator {font-family: monospace;background-color: #f0f8ff;border: 1px dotted black;border-radius: 0.25em;box-sizing: border-box;margin-bottom: 0.5em;}#sk-container-id-1 div.sk-estimator:hover {background-color: #d4ebff;}#sk-container-id-1 div.sk-parallel-item::after {content: \"\";width: 100%;border-bottom: 1px solid gray;flex-grow: 1;}#sk-container-id-1 div.sk-label:hover label.sk-toggleable__label {background-color: #d4ebff;}#sk-container-id-1 div.sk-serial::before {content: \"\";position: absolute;border-left: 1px solid gray;box-sizing: border-box;top: 0;bottom: 0;left: 50%;z-index: 0;}#sk-container-id-1 div.sk-serial {display: flex;flex-direction: column;align-items: center;background-color: white;padding-right: 0.2em;padding-left: 0.2em;position: relative;}#sk-container-id-1 div.sk-item {position: relative;z-index: 1;}#sk-container-id-1 div.sk-parallel {display: flex;align-items: stretch;justify-content: center;background-color: white;position: relative;}#sk-container-id-1 div.sk-item::before, #sk-container-id-1 div.sk-parallel-item::before {content: \"\";position: absolute;border-left: 1px solid gray;box-sizing: border-box;top: 0;bottom: 0;left: 50%;z-index: -1;}#sk-container-id-1 div.sk-parallel-item {display: flex;flex-direction: column;z-index: 1;position: relative;background-color: white;}#sk-container-id-1 div.sk-parallel-item:first-child::after {align-self: flex-end;width: 50%;}#sk-container-id-1 div.sk-parallel-item:last-child::after {align-self: flex-start;width: 50%;}#sk-container-id-1 div.sk-parallel-item:only-child::after {width: 0;}#sk-container-id-1 div.sk-dashed-wrapped {border: 1px dashed gray;margin: 0 0.4em 0.5em 0.4em;box-sizing: border-box;padding-bottom: 0.4em;background-color: white;}#sk-container-id-1 div.sk-label label {font-family: monospace;font-weight: bold;display: inline-block;line-height: 1.2em;}#sk-container-id-1 div.sk-label-container {text-align: center;}#sk-container-id-1 div.sk-container {/* jupyter's `normalize.less` sets `[hidden] { display: none; }` but bootstrap.min.css set `[hidden] { display: none !important; }` so we also need the `!important` here to be able to override the default hidden behavior on the sphinx rendered scikit-learn.org. See: https://github.com/scikit-learn/scikit-learn/issues/21755 */display: inline-block !important;position: relative;}#sk-container-id-1 div.sk-text-repr-fallback {display: none;}</style><div id=\"sk-container-id-1\" class=\"sk-top-container\"><div class=\"sk-text-repr-fallback\"><pre>KNeighborsClassifier()</pre><b>In a Jupyter environment, please rerun this cell to show the HTML representation or trust the notebook. <br />On GitHub, the HTML representation is unable to render, please try loading this page with nbviewer.org.</b></div><div class=\"sk-container\" hidden><div class=\"sk-item\"><div class=\"sk-estimator sk-toggleable\"><input class=\"sk-toggleable__control sk-hidden--visually\" id=\"sk-estimator-id-1\" type=\"checkbox\" checked><label for=\"sk-estimator-id-1\" class=\"sk-toggleable__label sk-toggleable__label-arrow\">KNeighborsClassifier</label><div class=\"sk-toggleable__content\"><pre>KNeighborsClassifier()</pre></div></div></div></div></div>"
     },
     "execution_count": 13,
     "metadata": {},
     "output_type": "execute_result"
    }
   ],
   "source": [
    "from sklearn.neighbors import KNeighborsClassifier\n",
    "\n",
    "n_neighbors = 5\n",
    "\n",
    "knn_clf = KNeighborsClassifier(n_neighbors=n_neighbors)\n",
    "knn_clf.fit(X=train_x[selected_columns], y=train_y)"
   ],
   "metadata": {
    "collapsed": false,
    "ExecuteTime": {
     "end_time": "2023-05-29T22:36:33.522502Z",
     "start_time": "2023-05-29T22:36:33.229280600Z"
    }
   }
  },
  {
   "cell_type": "code",
   "execution_count": 14,
   "outputs": [],
   "source": [
    "cv_y_predict = knn_clf.predict(X=cv_x[selected_columns])"
   ],
   "metadata": {
    "collapsed": false,
    "ExecuteTime": {
     "end_time": "2023-05-29T22:36:33.601333400Z",
     "start_time": "2023-05-29T22:36:33.530679200Z"
    }
   }
  },
  {
   "cell_type": "code",
   "execution_count": 15,
   "outputs": [
    {
     "data": {
      "text/plain": "0.31176470588235294"
     },
     "execution_count": 15,
     "metadata": {},
     "output_type": "execute_result"
    }
   ],
   "source": [
    "accuracy_knn = (cv_y == cv_y_predict).astype(int).sum() / len(cv_y)\n",
    "accuracy_knn"
   ],
   "metadata": {
    "collapsed": false,
    "ExecuteTime": {
     "end_time": "2023-05-29T22:36:33.622338Z",
     "start_time": "2023-05-29T22:36:33.599962500Z"
    }
   }
  },
  {
   "cell_type": "code",
   "execution_count": 16,
   "outputs": [
    {
     "data": {
      "text/plain": "1.443036015204219"
     },
     "execution_count": 16,
     "metadata": {},
     "output_type": "execute_result"
    }
   ],
   "source": [
    "rmse_knn = np.sqrt(((cv_y - cv_y_predict)**2).sum()/len(cv_y))\n",
    "rmse_knn"
   ],
   "metadata": {
    "collapsed": false,
    "ExecuteTime": {
     "end_time": "2023-05-29T22:36:33.701973400Z",
     "start_time": "2023-05-29T22:36:33.622338Z"
    }
   }
  },
  {
   "cell_type": "markdown",
   "source": [
    "## Neural Network"
   ],
   "metadata": {
    "collapsed": false
   }
  },
  {
   "cell_type": "code",
   "execution_count": 17,
   "outputs": [],
   "source": [
    "import torch\n",
    "from torch import nn\n",
    "import torch.optim as optim"
   ],
   "metadata": {
    "collapsed": false,
    "ExecuteTime": {
     "end_time": "2023-05-29T22:36:36.397299500Z",
     "start_time": "2023-05-29T22:36:33.641960600Z"
    }
   }
  },
  {
   "cell_type": "code",
   "execution_count": 18,
   "outputs": [],
   "source": [
    "class NeuralNetwork(nn.Module):\n",
    "    def __init__(self):\n",
    "        super().__init__()\n",
    "        self.flatten = nn.Flatten()\n",
    "        self.linear_relu_stack = nn.Sequential(\n",
    "            nn.Linear(18, 512),\n",
    "            nn.ReLU(),\n",
    "            nn.Linear(512, 512),\n",
    "            nn.ReLU(),\n",
    "            nn.Linear(512, 8)\n",
    "        )\n",
    "\n",
    "    def forward(self, x):\n",
    "        x = self.flatten(x)\n",
    "        logits = self.linear_relu_stack(x)\n",
    "        return logits\n"
   ],
   "metadata": {
    "collapsed": false,
    "ExecuteTime": {
     "end_time": "2023-05-29T22:36:36.397978100Z",
     "start_time": "2023-05-29T22:36:36.381889Z"
    }
   }
  },
  {
   "cell_type": "code",
   "execution_count": 19,
   "outputs": [],
   "source": [
    "model = NeuralNetwork()\n",
    "criterion = nn.CrossEntropyLoss()\n",
    "optimizer = optim.SGD(model.parameters(), lr=0.001, momentum=0.9)"
   ],
   "metadata": {
    "collapsed": false,
    "ExecuteTime": {
     "end_time": "2023-05-29T22:36:36.487920100Z",
     "start_time": "2023-05-29T22:36:36.400150400Z"
    }
   }
  },
  {
   "cell_type": "code",
   "execution_count": 20,
   "outputs": [],
   "source": [
    "x_tensor = torch.tensor(train_x.values)\n",
    "y_tensor = torch.tensor(train_y.values)"
   ],
   "metadata": {
    "collapsed": false,
    "ExecuteTime": {
     "end_time": "2023-05-29T22:36:36.490057800Z",
     "start_time": "2023-05-29T22:36:36.426562700Z"
    }
   }
  },
  {
   "cell_type": "code",
   "execution_count": 21,
   "outputs": [
    {
     "name": "stdout",
     "output_type": "stream",
     "text": [
      "31.649259567260742\n",
      "47.256526947021484\n",
      "470.9613342285156\n",
      "878.7858276367188\n",
      "66.7001724243164\n",
      "2.7941336631774902\n",
      "2.652486801147461\n",
      "3.052873134613037\n",
      "4.072297096252441\n",
      "3.06057071685791\n",
      "7.495682239532471\n",
      "3.668062686920166\n",
      "5.822879791259766\n",
      "4.905445575714111\n",
      "3.7339372634887695\n",
      "2.566244125366211\n",
      "1.9677746295928955\n",
      "1.969374656677246\n",
      "1.8673611879348755\n",
      "1.749459981918335\n",
      "1.7551307678222656\n",
      "1.626258134841919\n",
      "1.6231257915496826\n",
      "1.5943822860717773\n",
      "1.5583118200302124\n",
      "1.5415680408477783\n",
      "1.5203452110290527\n",
      "1.4980368614196777\n",
      "1.4904162883758545\n",
      "1.4797449111938477\n",
      "1.462666630744934\n",
      "1.4516242742538452\n",
      "1.4414016008377075\n",
      "1.4273405075073242\n",
      "1.4253885746002197\n",
      "1.419634461402893\n",
      "1.4164704084396362\n",
      "1.3979496955871582\n",
      "1.4002764225006104\n",
      "1.3933809995651245\n",
      "1.3953148126602173\n",
      "1.3838762044906616\n",
      "1.3817824125289917\n",
      "1.3718081712722778\n",
      "1.375815510749817\n",
      "1.3615866899490356\n",
      "1.360528588294983\n",
      "1.3552179336547852\n",
      "1.3511744737625122\n",
      "1.3494795560836792\n",
      "1.3427613973617554\n",
      "1.3444873094558716\n",
      "1.3396000862121582\n",
      "1.3378969430923462\n",
      "1.335339069366455\n",
      "1.3342061042785645\n",
      "1.3318359851837158\n",
      "1.3288512229919434\n",
      "1.327731966972351\n",
      "1.3247277736663818\n",
      "1.322795033454895\n",
      "1.321336030960083\n",
      "1.3199962377548218\n",
      "1.3180283308029175\n",
      "1.3163230419158936\n",
      "1.3154566287994385\n",
      "1.3143351078033447\n",
      "1.31317937374115\n",
      "1.312105655670166\n",
      "1.311016321182251\n",
      "1.3100999593734741\n",
      "1.3091024160385132\n",
      "1.3083444833755493\n",
      "1.3071142435073853\n",
      "1.3063762187957764\n",
      "1.3057483434677124\n",
      "1.3046648502349854\n",
      "1.3040069341659546\n",
      "1.303038239479065\n",
      "1.302380084991455\n",
      "1.3014869689941406\n",
      "1.3007779121398926\n",
      "1.3001021146774292\n",
      "1.2994053363800049\n",
      "1.2989258766174316\n",
      "1.2981964349746704\n",
      "1.2976962327957153\n",
      "1.2971137762069702\n",
      "1.2965855598449707\n",
      "1.2960366010665894\n",
      "1.2954553365707397\n",
      "1.2949539422988892\n",
      "1.2943998575210571\n",
      "1.2939385175704956\n",
      "1.2934101819992065\n",
      "1.2929672002792358\n",
      "1.2925140857696533\n",
      "1.2920525074005127\n",
      "1.2916241884231567\n",
      "1.2911962270736694\n"
     ]
    }
   ],
   "source": [
    "num_iterations = 100\n",
    "\n",
    "for i in range(num_iterations):\n",
    "    optimizer.zero_grad()\n",
    "    outputs = model(x_tensor.float())\n",
    "    loss = criterion(outputs, y_tensor)\n",
    "    loss.backward()\n",
    "    optimizer.step()\n",
    "    print(f'{loss.item()}')"
   ],
   "metadata": {
    "collapsed": false,
    "ExecuteTime": {
     "end_time": "2023-05-29T22:36:42.946788900Z",
     "start_time": "2023-05-29T22:36:36.462420900Z"
    }
   }
  },
  {
   "cell_type": "code",
   "execution_count": 22,
   "outputs": [],
   "source": [
    "cv_x_tensor = torch.tensor(cv_x.values)\n",
    "cv_y_tensor = torch.tensor(cv_y.values)\n",
    "cv_y_predict = torch.argmax(model(cv_x_tensor.float()), dim=1)"
   ],
   "metadata": {
    "collapsed": false,
    "ExecuteTime": {
     "end_time": "2023-05-29T22:36:43.014509300Z",
     "start_time": "2023-05-29T22:36:42.956282100Z"
    }
   }
  },
  {
   "cell_type": "code",
   "execution_count": 23,
   "outputs": [
    {
     "data": {
      "text/plain": "tensor(0.3676)"
     },
     "execution_count": 23,
     "metadata": {},
     "output_type": "execute_result"
    }
   ],
   "source": [
    "accuracy_nn = (cv_y_tensor == cv_y_predict).sum() / len(cv_y_tensor)\n",
    "accuracy_nn"
   ],
   "metadata": {
    "collapsed": false,
    "ExecuteTime": {
     "end_time": "2023-05-29T22:36:43.018505600Z",
     "start_time": "2023-05-29T22:36:42.994850900Z"
    }
   }
  },
  {
   "cell_type": "code",
   "execution_count": 24,
   "outputs": [
    {
     "data": {
      "text/plain": "1.0131488480155786"
     },
     "execution_count": 24,
     "metadata": {},
     "output_type": "execute_result"
    }
   ],
   "source": [
    "rmse_nn = np.sqrt(((cv_y - cv_y_predict.numpy()) ** 2).sum() / len(cv_y))\n",
    "rmse_nn"
   ],
   "metadata": {
    "collapsed": false,
    "ExecuteTime": {
     "end_time": "2023-05-29T22:36:43.127558700Z",
     "start_time": "2023-05-29T22:36:43.021362800Z"
    }
   }
  },
  {
   "cell_type": "markdown",
   "source": [
    "## Random Forest"
   ],
   "metadata": {
    "collapsed": false
   }
  },
  {
   "cell_type": "code",
   "execution_count": 25,
   "outputs": [
    {
     "data": {
      "text/plain": "GridSearchCV(estimator=RandomForestClassifier(),\n             param_grid={'criterion': ('gini', 'entropy', 'log_loss')})",
      "text/html": "<style>#sk-container-id-2 {color: black;background-color: white;}#sk-container-id-2 pre{padding: 0;}#sk-container-id-2 div.sk-toggleable {background-color: white;}#sk-container-id-2 label.sk-toggleable__label {cursor: pointer;display: block;width: 100%;margin-bottom: 0;padding: 0.3em;box-sizing: border-box;text-align: center;}#sk-container-id-2 label.sk-toggleable__label-arrow:before {content: \"▸\";float: left;margin-right: 0.25em;color: #696969;}#sk-container-id-2 label.sk-toggleable__label-arrow:hover:before {color: black;}#sk-container-id-2 div.sk-estimator:hover label.sk-toggleable__label-arrow:before {color: black;}#sk-container-id-2 div.sk-toggleable__content {max-height: 0;max-width: 0;overflow: hidden;text-align: left;background-color: #f0f8ff;}#sk-container-id-2 div.sk-toggleable__content pre {margin: 0.2em;color: black;border-radius: 0.25em;background-color: #f0f8ff;}#sk-container-id-2 input.sk-toggleable__control:checked~div.sk-toggleable__content {max-height: 200px;max-width: 100%;overflow: auto;}#sk-container-id-2 input.sk-toggleable__control:checked~label.sk-toggleable__label-arrow:before {content: \"▾\";}#sk-container-id-2 div.sk-estimator input.sk-toggleable__control:checked~label.sk-toggleable__label {background-color: #d4ebff;}#sk-container-id-2 div.sk-label input.sk-toggleable__control:checked~label.sk-toggleable__label {background-color: #d4ebff;}#sk-container-id-2 input.sk-hidden--visually {border: 0;clip: rect(1px 1px 1px 1px);clip: rect(1px, 1px, 1px, 1px);height: 1px;margin: -1px;overflow: hidden;padding: 0;position: absolute;width: 1px;}#sk-container-id-2 div.sk-estimator {font-family: monospace;background-color: #f0f8ff;border: 1px dotted black;border-radius: 0.25em;box-sizing: border-box;margin-bottom: 0.5em;}#sk-container-id-2 div.sk-estimator:hover {background-color: #d4ebff;}#sk-container-id-2 div.sk-parallel-item::after {content: \"\";width: 100%;border-bottom: 1px solid gray;flex-grow: 1;}#sk-container-id-2 div.sk-label:hover label.sk-toggleable__label {background-color: #d4ebff;}#sk-container-id-2 div.sk-serial::before {content: \"\";position: absolute;border-left: 1px solid gray;box-sizing: border-box;top: 0;bottom: 0;left: 50%;z-index: 0;}#sk-container-id-2 div.sk-serial {display: flex;flex-direction: column;align-items: center;background-color: white;padding-right: 0.2em;padding-left: 0.2em;position: relative;}#sk-container-id-2 div.sk-item {position: relative;z-index: 1;}#sk-container-id-2 div.sk-parallel {display: flex;align-items: stretch;justify-content: center;background-color: white;position: relative;}#sk-container-id-2 div.sk-item::before, #sk-container-id-2 div.sk-parallel-item::before {content: \"\";position: absolute;border-left: 1px solid gray;box-sizing: border-box;top: 0;bottom: 0;left: 50%;z-index: -1;}#sk-container-id-2 div.sk-parallel-item {display: flex;flex-direction: column;z-index: 1;position: relative;background-color: white;}#sk-container-id-2 div.sk-parallel-item:first-child::after {align-self: flex-end;width: 50%;}#sk-container-id-2 div.sk-parallel-item:last-child::after {align-self: flex-start;width: 50%;}#sk-container-id-2 div.sk-parallel-item:only-child::after {width: 0;}#sk-container-id-2 div.sk-dashed-wrapped {border: 1px dashed gray;margin: 0 0.4em 0.5em 0.4em;box-sizing: border-box;padding-bottom: 0.4em;background-color: white;}#sk-container-id-2 div.sk-label label {font-family: monospace;font-weight: bold;display: inline-block;line-height: 1.2em;}#sk-container-id-2 div.sk-label-container {text-align: center;}#sk-container-id-2 div.sk-container {/* jupyter's `normalize.less` sets `[hidden] { display: none; }` but bootstrap.min.css set `[hidden] { display: none !important; }` so we also need the `!important` here to be able to override the default hidden behavior on the sphinx rendered scikit-learn.org. See: https://github.com/scikit-learn/scikit-learn/issues/21755 */display: inline-block !important;position: relative;}#sk-container-id-2 div.sk-text-repr-fallback {display: none;}</style><div id=\"sk-container-id-2\" class=\"sk-top-container\"><div class=\"sk-text-repr-fallback\"><pre>GridSearchCV(estimator=RandomForestClassifier(),\n             param_grid={&#x27;criterion&#x27;: (&#x27;gini&#x27;, &#x27;entropy&#x27;, &#x27;log_loss&#x27;)})</pre><b>In a Jupyter environment, please rerun this cell to show the HTML representation or trust the notebook. <br />On GitHub, the HTML representation is unable to render, please try loading this page with nbviewer.org.</b></div><div class=\"sk-container\" hidden><div class=\"sk-item sk-dashed-wrapped\"><div class=\"sk-label-container\"><div class=\"sk-label sk-toggleable\"><input class=\"sk-toggleable__control sk-hidden--visually\" id=\"sk-estimator-id-2\" type=\"checkbox\" ><label for=\"sk-estimator-id-2\" class=\"sk-toggleable__label sk-toggleable__label-arrow\">GridSearchCV</label><div class=\"sk-toggleable__content\"><pre>GridSearchCV(estimator=RandomForestClassifier(),\n             param_grid={&#x27;criterion&#x27;: (&#x27;gini&#x27;, &#x27;entropy&#x27;, &#x27;log_loss&#x27;)})</pre></div></div></div><div class=\"sk-parallel\"><div class=\"sk-parallel-item\"><div class=\"sk-item\"><div class=\"sk-label-container\"><div class=\"sk-label sk-toggleable\"><input class=\"sk-toggleable__control sk-hidden--visually\" id=\"sk-estimator-id-3\" type=\"checkbox\" ><label for=\"sk-estimator-id-3\" class=\"sk-toggleable__label sk-toggleable__label-arrow\">estimator: RandomForestClassifier</label><div class=\"sk-toggleable__content\"><pre>RandomForestClassifier()</pre></div></div></div><div class=\"sk-serial\"><div class=\"sk-item\"><div class=\"sk-estimator sk-toggleable\"><input class=\"sk-toggleable__control sk-hidden--visually\" id=\"sk-estimator-id-4\" type=\"checkbox\" ><label for=\"sk-estimator-id-4\" class=\"sk-toggleable__label sk-toggleable__label-arrow\">RandomForestClassifier</label><div class=\"sk-toggleable__content\"><pre>RandomForestClassifier()</pre></div></div></div></div></div></div></div></div></div></div>"
     },
     "execution_count": 25,
     "metadata": {},
     "output_type": "execute_result"
    }
   ],
   "source": [
    "from sklearn.ensemble import RandomForestClassifier\n",
    "from sklearn.model_selection import GridSearchCV\n",
    "parameters = {\n",
    "    'criterion': ('gini', 'entropy', 'log_loss'),\n",
    "\n",
    "}\n",
    "rf_clf = RandomForestClassifier()\n",
    "clf = GridSearchCV(rf_clf, parameters)\n",
    "clf.fit(train_x, train_y)"
   ],
   "metadata": {
    "collapsed": false,
    "ExecuteTime": {
     "end_time": "2023-05-29T22:37:28.370168600Z",
     "start_time": "2023-05-29T22:36:43.050435900Z"
    }
   }
  },
  {
   "cell_type": "code",
   "execution_count": 26,
   "outputs": [],
   "source": [
    "cv_y_predict = clf.predict(cv_x)"
   ],
   "metadata": {
    "collapsed": false,
    "ExecuteTime": {
     "end_time": "2023-05-29T22:37:28.417029Z",
     "start_time": "2023-05-29T22:37:28.356660Z"
    }
   }
  },
  {
   "cell_type": "code",
   "execution_count": 27,
   "outputs": [
    {
     "data": {
      "text/plain": "0.4147058823529412"
     },
     "execution_count": 27,
     "metadata": {},
     "output_type": "execute_result"
    }
   ],
   "source": [
    "accuracy_rf = (cv_y == cv_y_predict).astype(int).sum() / len(cv_y)\n",
    "accuracy_rf"
   ],
   "metadata": {
    "collapsed": false,
    "ExecuteTime": {
     "end_time": "2023-05-29T22:37:28.442633400Z",
     "start_time": "2023-05-29T22:37:28.404495400Z"
    }
   }
  },
  {
   "cell_type": "code",
   "execution_count": 28,
   "outputs": [
    {
     "data": {
      "text/plain": "1.0218207509435417"
     },
     "execution_count": 28,
     "metadata": {},
     "output_type": "execute_result"
    }
   ],
   "source": [
    "rmse_rf = np.sqrt(((cv_y - cv_y_predict) ** 2).sum() / len(cv_y))\n",
    "rmse_rf"
   ],
   "metadata": {
    "collapsed": false,
    "ExecuteTime": {
     "end_time": "2023-05-29T22:37:28.509923700Z",
     "start_time": "2023-05-29T22:37:28.441632Z"
    }
   }
  },
  {
   "cell_type": "markdown",
   "source": [
    "## Final Results"
   ],
   "metadata": {
    "collapsed": false
   }
  },
  {
   "cell_type": "markdown",
   "source": [
    "### Findings"
   ],
   "metadata": {
    "collapsed": false
   }
  },
  {
   "cell_type": "markdown",
   "source": [
    "Based on the accuracy results, we find that the random forest model performs the best. However, if more data is available, we would go with Neural Networks; since they eliminate the need for feature engineering and are more suitable for large training data set. This dataset is a small-to-medium sized dataset. We also find that if the `TotalHours`, `Age` or `HoursPerWeek` of the any player is `?` (Question Mark), then it is a strong indicator of that player belonging to the `Professional` League tier (Tier 7), which makes sense since many of these players prefer playing on \"smurf accounts\" and only log into their professional account when playing in tournaments. Most of the metrics (except for `ActionLatency`) should go up with skill."
   ],
   "metadata": {
    "collapsed": false
   }
  },
  {
   "cell_type": "code",
   "execution_count": 29,
   "outputs": [
    {
     "data": {
      "text/plain": "0.4180569185475957"
     },
     "execution_count": 29,
     "metadata": {},
     "output_type": "execute_result"
    }
   ],
   "source": [
    "# Test set accuracy for Random Forest\n",
    "test_y_predict = clf.predict(test_x)\n",
    "accuracy_rf_test = (test_y == test_y_predict).astype(int).sum() / len(test_y)\n",
    "accuracy_rf_test"
   ],
   "metadata": {
    "collapsed": false,
    "ExecuteTime": {
     "end_time": "2023-05-29T22:46:21.563883100Z",
     "start_time": "2023-05-29T22:46:21.478032Z"
    }
   }
  },
  {
   "cell_type": "markdown",
   "source": [
    "###  Hypothetical: after seeing your work, your stakeholders come to you and say that they can collect more data, but want your guidance before starting. How would you advise them based on your EDA and model results?"
   ],
   "metadata": {
    "collapsed": false
   }
  },
  {
   "cell_type": "markdown",
   "source": [
    "While Random Forests seems to perform better in the EDA, as data would increase, Neural Networks will perform better and will also eliminate the need of feature engineering. We can also reduce the number of features since most of them are correlated."
   ],
   "metadata": {
    "collapsed": false
   }
  },
  {
   "cell_type": "code",
   "execution_count": null,
   "outputs": [],
   "source": [],
   "metadata": {
    "collapsed": false
   }
  }
 ],
 "metadata": {
  "kernelspec": {
   "display_name": "Python 3",
   "language": "python",
   "name": "python3"
  },
  "language_info": {
   "codemirror_mode": {
    "name": "ipython",
    "version": 2
   },
   "file_extension": ".py",
   "mimetype": "text/x-python",
   "name": "python",
   "nbconvert_exporter": "python",
   "pygments_lexer": "ipython2",
   "version": "2.7.6"
  }
 },
 "nbformat": 4,
 "nbformat_minor": 0
}
